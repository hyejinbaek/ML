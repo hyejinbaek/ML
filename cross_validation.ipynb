{
 "cells": [
  {
   "cell_type": "markdown",
   "metadata": {},
   "source": [
    "# Define Dataset"
   ]
  },
  {
   "cell_type": "code",
   "execution_count": 10,
   "metadata": {},
   "outputs": [],
   "source": [
    "import xgboost as xgb\n",
    "from xgboost import XGBClassifier\n",
    "from xgboost import plot_importance\n",
    "import pandas as pd\n",
    "import numpy as np\n",
    "import warnings\n",
    "from sklearn.model_selection import train_test_split, cross_validate, StratifiedKFold\n",
    "\n",
    "data_url = 'https://archive.ics.uci.edu/ml/machine-learning-databases/breast-cancer-wisconsin/breast-cancer-wisconsin.data'\n",
    "df_data = pd.read_csv(data_url)\n",
    "col_data = df_data.columns = ['id', 'Clump Thickness', 'Uniformity of Cell Size', 'Uniformity of Cell Shape', 'Marginal Adhesion ', 'Single Epithelial Cell Size',\n",
    "                              'Bare Nuclei', 'Bland Chromatin', 'Normal Nucleoli', 'Mitoses', 'Class']\n",
    "\n",
    "df_data['Bare Nuclei'] = df_data['Bare Nuclei'].replace('?',0).astype(int)\n",
    "df_data['Class'] = df_data['Class'].replace({2:0, 4:1})"
   ]
  },
  {
   "cell_type": "markdown",
   "metadata": {},
   "source": [
    "# Define Train Code"
   ]
  },
  {
   "cell_type": "code",
   "execution_count": 11,
   "metadata": {},
   "outputs": [],
   "source": [
    "def cross_valid(\n",
    "    X: np.array, y: np.array,\n",
    "    model=XGBClassifier(),\n",
    "    cv=StratifiedKFold(n_splits=5, shuffle = True, random_state=42),\n",
    "    scoring=['accuracy', 'f1', 'recall', 'precision'],\n",
    "    **kwargs,\n",
    "):\n",
    "    # model.fit(X_features, y_label) # !! cross_validate 에서 train 동작이 있으므로 지워야 하는 코드 !!\n",
    "    cv_result = cross_validate(model, X, y, cv=StratifiedKFold(n_splits=5, shuffle = True, random_state=42), scoring=scoring, **kwargs)\n",
    "    for score_name in cv_result:\n",
    "        if 'test' in score_name:\n",
    "            test_score_mean, test_score_std = np.mean(cv_result[score_name]), np.std(cv_result[score_name])\n",
    "            print(f'{score_name}: {test_score_mean:.4f} ± {test_score_std:.4f}') # 유효숫자 소수점 아래 4 자리까지 표시\n"
   ]
  },
  {
   "cell_type": "markdown",
   "metadata": {},
   "source": [
    "# Define Missing Value Setting function"
   ]
  },
  {
   "cell_type": "code",
   "execution_count": 12,
   "metadata": {},
   "outputs": [],
   "source": [
    "from typing import Tuple\n",
    "\n",
    "\n",
    "train_col = ['Clump Thickness', 'Uniformity of Cell Size', 'Uniformity of Cell Shape', 'Marginal Adhesion ',\n",
    "             'Single Epithelial Cell Size','Bare Nuclei', 'Bland Chromatin', 'Normal Nucleoli', 'Mitoses']\n",
    "\n",
    "def set_missing_value(df: pd.DataFrame, ratio: float) -> Tuple[np.array, np.array]:\n",
    "\n",
    "    missing_length = int(len(df) * ratio)\n",
    "\n",
    "    print(f'{missing_length=}')\n",
    "    \n",
    "    df = df.copy()\n",
    "    df.loc[:missing_length-1, train_col] = np.nan\n",
    "    df = df.fillna(0)\n",
    "\n",
    "    # df_data[train_col]을 array 형태로 변경\n",
    "    X = df[train_col].to_numpy()\n",
    "    # df_data['Class'] : 판다스 series type을 array형태로 변경\n",
    "    y = df['Class'].to_numpy()\n",
    "\n",
    "    # X: features matrix, y: label vector\n",
    "    return X, y"
   ]
  },
  {
   "cell_type": "markdown",
   "metadata": {},
   "source": [
    "# xgb classifier을 이용하여 결측치가 없을 때 성능 예측"
   ]
  },
  {
   "cell_type": "code",
   "execution_count": 13,
   "metadata": {},
   "outputs": [
    {
     "name": "stdout",
     "output_type": "stream",
     "text": [
      "missing_length=0\n",
      "X.shape=(698, 9) y.shape=(698,)\n",
      "test_accuracy: 0.9613 ± 0.0155\n",
      "test_f1: 0.9447 ± 0.0221\n",
      "test_recall: 0.9583 ± 0.0228\n",
      "test_precision: 0.9315 ± 0.0240\n"
     ]
    }
   ],
   "source": [
    "X, y = set_missing_value(df_data, 0)\n",
    "print(f'{X.shape=}', f'{y.shape=}')\n",
    "cross_valid(X, y)"
   ]
  },
  {
   "cell_type": "markdown",
   "metadata": {},
   "source": [
    "# xgb classifier을 이용하여 결측치 20% -> zero imputation"
   ]
  },
  {
   "cell_type": "code",
   "execution_count": 14,
   "metadata": {},
   "outputs": [
    {
     "name": "stdout",
     "output_type": "stream",
     "text": [
      "missing_length=139\n",
      "test_accuracy: 0.8897 ± 0.0200\n",
      "test_f1: 0.8166 ± 0.0399\n",
      "test_recall: 0.7178 ± 0.0571\n",
      "test_precision: 0.9501 ± 0.0122\n"
     ]
    }
   ],
   "source": [
    "X, y = set_missing_value(df_data, 0.2)\n",
    "cross_valid(X, y)"
   ]
  },
  {
   "cell_type": "markdown",
   "metadata": {},
   "source": [
    "# xgb classifier을 이용하여 결측치 40% -> zero imputation"
   ]
  },
  {
   "cell_type": "code",
   "execution_count": 18,
   "metadata": {},
   "outputs": [
    {
     "name": "stdout",
     "output_type": "stream",
     "text": [
      "missing_length=279\n",
      "test_accuracy: 0.8066 ± 0.0273\n",
      "test_f1: 0.6175 ± 0.0742\n",
      "test_recall: 0.4610 ± 0.0854\n",
      "test_precision: 0.9592 ± 0.0225\n"
     ]
    }
   ],
   "source": [
    "X, y = set_missing_value(df_data, 0.4)\n",
    "cross_valid(X, y)"
   ]
  },
  {
   "cell_type": "markdown",
   "metadata": {},
   "source": [
    "# xgb classifier을 이용하여 결측치 60% -> zero imputation"
   ]
  },
  {
   "cell_type": "code",
   "execution_count": 16,
   "metadata": {},
   "outputs": [
    {
     "name": "stdout",
     "output_type": "stream",
     "text": [
      "missing_length=418\n",
      "test_accuracy: 0.7393 ± 0.0249\n",
      "test_f1: 0.4043 ± 0.0895\n",
      "test_recall: 0.2618 ± 0.0714\n",
      "test_precision: 0.9462 ± 0.0675\n"
     ]
    }
   ],
   "source": [
    "X, y = set_missing_value(df_data, 0.6)\n",
    "cross_valid(X, y)"
   ]
  },
  {
   "cell_type": "markdown",
   "metadata": {},
   "source": [
    "# xgb classifier을 이용하여 결측치 80% -> zero imputation"
   ]
  },
  {
   "cell_type": "code",
   "execution_count": 17,
   "metadata": {},
   "outputs": [
    {
     "name": "stdout",
     "output_type": "stream",
     "text": [
      "missing_length=558\n",
      "test_accuracy: 0.7006 ± 0.0187\n",
      "test_f1: 0.2425 ± 0.0772\n",
      "test_recall: 0.1413 ± 0.0504\n",
      "test_precision: 0.9418 ± 0.0792\n"
     ]
    }
   ],
   "source": [
    "X, y = set_missing_value(df_data, 0.8)\n",
    "cross_valid(X, y)"
   ]
  },
  {
   "cell_type": "code",
   "execution_count": null,
   "metadata": {},
   "outputs": [],
   "source": []
  }
 ],
 "metadata": {
  "kernelspec": {
   "display_name": "Python 3.8.0 ('ml')",
   "language": "python",
   "name": "python3"
  },
  "language_info": {
   "codemirror_mode": {
    "name": "ipython",
    "version": 3
   },
   "file_extension": ".py",
   "mimetype": "text/x-python",
   "name": "python",
   "nbconvert_exporter": "python",
   "pygments_lexer": "ipython3",
   "version": "3.8.0"
  },
  "orig_nbformat": 4,
  "vscode": {
   "interpreter": {
    "hash": "06965584c1289be59a0d4902e6bbefc2032789c02311d80f1e208e0e7d56e40d"
   }
  }
 },
 "nbformat": 4,
 "nbformat_minor": 2
}
